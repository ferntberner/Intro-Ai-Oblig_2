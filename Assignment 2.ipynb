{
 "cells": [
  {
   "cell_type": "code",
   "execution_count": 28,
   "id": "1795bf04",
   "metadata": {},
   "outputs": [],
   "source": [
    "#Since the aim here should be to predict the price of the stock on a given date, it is \n",
    "#more natural to use linear regression than classification. A classification model would be \n",
    "#appropriate if we were looking for binary answers, i.e. 'is the price going up or down?'\n",
    "%matplotlib inline\n",
    "\n",
    "import numpy as np\n",
    "import pandas as pd\n",
    "import matplotlib.pyplot as plt\n",
    "import datetime as dt\n",
    "\n",
    "from sklearn import metrics\n",
    "from sklearn.linear_model import LinearRegression\n",
    "from sklearn.model_selection import train_test_split"
   ]
  },
  {
   "cell_type": "code",
   "execution_count": 2,
   "id": "fc6c6b55",
   "metadata": {},
   "outputs": [],
   "source": [
    "#import the TESLA stock dataset\n",
    "df = pd.read_csv('TSLA2.csv', sep=',')"
   ]
  },
  {
   "cell_type": "code",
   "execution_count": 3,
   "id": "98d8661d",
   "metadata": {},
   "outputs": [
    {
     "data": {
      "text/plain": [
       "<AxesSubplot:>"
      ]
     },
     "execution_count": 3,
     "metadata": {},
     "output_type": "execute_result"
    },
    {
     "data": {
      "image/png": "[encoded data removed]",
      "text/plain": [
       "<Figure size 720x360 with 1 Axes>"
      ]
     },
     "metadata": {
      "needs_background": "light"
     },
     "output_type": "display_data"
    }
   ],
   "source": [
    "#Visualize the close price\n",
    "df['Close'].plot(figsize=(10,5))\n",
    "#Here we see a fairly steady increase, which means it could make some sense to use linear regression to predict\n",
    "#the future stock price"
   ]
  },
  {
   "cell_type": "code",
   "execution_count": 4,
   "id": "e82300de",
   "metadata": {},
   "outputs": [],
   "source": [
    "#If we are going to use Date as a feature, we need to convert it from the datetime format\n",
    "df['Date'] = pd.to_datetime(df['Date'])\n",
    "df['Date']=df['Date'].map(dt.datetime.toordinal)\n",
    "#This changes the date into a nominal value representing x number of days since 01.01.0001"
   ]
  },
  {
   "cell_type": "code",
   "execution_count": 5,
   "id": "00276d52",
   "metadata": {},
   "outputs": [
    {
     "data": {
      "text/html": [
       "<style type=\"text/css\">\n",
       "#T_882de_row0_col0, #T_882de_row1_col1, #T_882de_row2_col2, #T_882de_row3_col3, #T_882de_row4_col4, #T_882de_row4_col5, #T_882de_row5_col4, #T_882de_row5_col5, #T_882de_row6_col6 {\n",
       "  background-color: #b40426;\n",
       "  color: #f1f1f1;\n",
       "}\n",
       "#T_882de_row0_col1, #T_882de_row0_col3 {\n",
       "  background-color: #cf453c;\n",
       "  color: #f1f1f1;\n",
       "}\n",
       "#T_882de_row0_col2 {\n",
       "  background-color: #d1493f;\n",
       "  color: #f1f1f1;\n",
       "}\n",
       "#T_882de_row0_col4, #T_882de_row0_col5, #T_882de_row1_col0, #T_882de_row2_col0, #T_882de_row3_col0 {\n",
       "  background-color: #cd423b;\n",
       "  color: #f1f1f1;\n",
       "}\n",
       "#T_882de_row0_col6, #T_882de_row6_col0, #T_882de_row6_col1, #T_882de_row6_col2, #T_882de_row6_col3, #T_882de_row6_col4, #T_882de_row6_col5 {\n",
       "  background-color: #3b4cc0;\n",
       "  color: #f1f1f1;\n",
       "}\n",
       "#T_882de_row1_col2, #T_882de_row1_col3, #T_882de_row2_col1, #T_882de_row3_col1, #T_882de_row3_col4, #T_882de_row3_col5, #T_882de_row4_col3, #T_882de_row5_col3 {\n",
       "  background-color: #b70d28;\n",
       "  color: #f1f1f1;\n",
       "}\n",
       "#T_882de_row1_col4, #T_882de_row1_col5, #T_882de_row4_col1, #T_882de_row5_col1 {\n",
       "  background-color: #ba162b;\n",
       "  color: #f1f1f1;\n",
       "}\n",
       "#T_882de_row1_col6 {\n",
       "  background-color: #4f69d9;\n",
       "  color: #f1f1f1;\n",
       "}\n",
       "#T_882de_row2_col3, #T_882de_row2_col4, #T_882de_row2_col5, #T_882de_row3_col2, #T_882de_row4_col2, #T_882de_row5_col2 {\n",
       "  background-color: #b50927;\n",
       "  color: #f1f1f1;\n",
       "}\n",
       "#T_882de_row2_col6 {\n",
       "  background-color: #6180e9;\n",
       "  color: #f1f1f1;\n",
       "}\n",
       "#T_882de_row3_col6 {\n",
       "  background-color: #4a63d3;\n",
       "  color: #f1f1f1;\n",
       "}\n",
       "#T_882de_row4_col0, #T_882de_row5_col0 {\n",
       "  background-color: #cb3e38;\n",
       "  color: #f1f1f1;\n",
       "}\n",
       "#T_882de_row4_col6, #T_882de_row5_col6 {\n",
       "  background-color: #5875e1;\n",
       "  color: #f1f1f1;\n",
       "}\n",
       "</style>\n",
       "<table id=\"T_882de_\">\n",
       "  <thead>\n",
       "    <tr>\n",
       "      <th class=\"blank level0\" >&nbsp;</th>\n",
       "      <th class=\"col_heading level0 col0\" >Date</th>\n",
       "      <th class=\"col_heading level0 col1\" >Open</th>\n",
       "      <th class=\"col_heading level0 col2\" >High</th>\n",
       "      <th class=\"col_heading level0 col3\" >Low</th>\n",
       "      <th class=\"col_heading level0 col4\" >Close</th>\n",
       "      <th class=\"col_heading level0 col5\" >Adj Close</th>\n",
       "      <th class=\"col_heading level0 col6\" >Volume</th>\n",
       "    </tr>\n",
       "  </thead>\n",
       "  <tbody>\n",
       "    <tr>\n",
       "      <th id=\"T_882de_level0_row0\" class=\"row_heading level0 row0\" >Date</th>\n",
       "      <td id=\"T_882de_row0_col0\" class=\"data row0 col0\" >1.000000</td>\n",
       "      <td id=\"T_882de_row0_col1\" class=\"data row0 col1\" >0.907646</td>\n",
       "      <td id=\"T_882de_row0_col2\" class=\"data row0 col2\" >0.906328</td>\n",
       "      <td id=\"T_882de_row0_col3\" class=\"data row0 col3\" >0.907830</td>\n",
       "      <td id=\"T_882de_row0_col4\" class=\"data row0 col4\" >0.915495</td>\n",
       "      <td id=\"T_882de_row0_col5\" class=\"data row0 col5\" >0.915495</td>\n",
       "      <td id=\"T_882de_row0_col6\" class=\"data row0 col6\" >-0.285109</td>\n",
       "    </tr>\n",
       "    <tr>\n",
       "      <th id=\"T_882de_level0_row1\" class=\"row_heading level0 row1\" >Open</th>\n",
       "      <td id=\"T_882de_row1_col0\" class=\"data row1 col0\" >0.907646</td>\n",
       "      <td id=\"T_882de_row1_col1\" class=\"data row1 col1\" >1.000000</td>\n",
       "      <td id=\"T_882de_row1_col2\" class=\"data row1 col2\" >0.989251</td>\n",
       "      <td id=\"T_882de_row1_col3\" class=\"data row1 col3\" >0.989883</td>\n",
       "      <td id=\"T_882de_row1_col4\" class=\"data row1 col4\" >0.977581</td>\n",
       "      <td id=\"T_882de_row1_col5\" class=\"data row1 col5\" >0.977581</td>\n",
       "      <td id=\"T_882de_row1_col6\" class=\"data row1 col6\" >-0.194920</td>\n",
       "    </tr>\n",
       "    <tr>\n",
       "      <th id=\"T_882de_level0_row2\" class=\"row_heading level0 row2\" >High</th>\n",
       "      <td id=\"T_882de_row2_col0\" class=\"data row2 col0\" >0.906328</td>\n",
       "      <td id=\"T_882de_row2_col1\" class=\"data row2 col1\" >0.989251</td>\n",
       "      <td id=\"T_882de_row2_col2\" class=\"data row2 col2\" >1.000000</td>\n",
       "      <td id=\"T_882de_row2_col3\" class=\"data row2 col3\" >0.991536</td>\n",
       "      <td id=\"T_882de_row2_col4\" class=\"data row2 col4\" >0.992377</td>\n",
       "      <td id=\"T_882de_row2_col5\" class=\"data row2 col5\" >0.992377</td>\n",
       "      <td id=\"T_882de_row2_col6\" class=\"data row2 col6\" >-0.126524</td>\n",
       "    </tr>\n",
       "    <tr>\n",
       "      <th id=\"T_882de_level0_row3\" class=\"row_heading level0 row3\" >Low</th>\n",
       "      <td id=\"T_882de_row3_col0\" class=\"data row3 col0\" >0.907830</td>\n",
       "      <td id=\"T_882de_row3_col1\" class=\"data row3 col1\" >0.989883</td>\n",
       "      <td id=\"T_882de_row3_col2\" class=\"data row3 col2\" >0.991536</td>\n",
       "      <td id=\"T_882de_row3_col3\" class=\"data row3 col3\" >1.000000</td>\n",
       "      <td id=\"T_882de_row3_col4\" class=\"data row3 col4\" >0.990427</td>\n",
       "      <td id=\"T_882de_row3_col5\" class=\"data row3 col5\" >0.990427</td>\n",
       "      <td id=\"T_882de_row3_col6\" class=\"data row3 col6\" >-0.215804</td>\n",
       "    </tr>\n",
       "    <tr>\n",
       "      <th id=\"T_882de_level0_row4\" class=\"row_heading level0 row4\" >Close</th>\n",
       "      <td id=\"T_882de_row4_col0\" class=\"data row4 col0\" >0.915495</td>\n",
       "      <td id=\"T_882de_row4_col1\" class=\"data row4 col1\" >0.977581</td>\n",
       "      <td id=\"T_882de_row4_col2\" class=\"data row4 col2\" >0.992377</td>\n",
       "      <td id=\"T_882de_row4_col3\" class=\"data row4 col3\" >0.990427</td>\n",
       "      <td id=\"T_882de_row4_col4\" class=\"data row4 col4\" >1.000000</td>\n",
       "      <td id=\"T_882de_row4_col5\" class=\"data row4 col5\" >1.000000</td>\n",
       "      <td id=\"T_882de_row4_col6\" class=\"data row4 col6\" >-0.162736</td>\n",
       "    </tr>\n",
       "    <tr>\n",
       "      <th id=\"T_882de_level0_row5\" class=\"row_heading level0 row5\" >Adj Close</th>\n",
       "      <td id=\"T_882de_row5_col0\" class=\"data row5 col0\" >0.915495</td>\n",
       "      <td id=\"T_882de_row5_col1\" class=\"data row5 col1\" >0.977581</td>\n",
       "      <td id=\"T_882de_row5_col2\" class=\"data row5 col2\" >0.992377</td>\n",
       "      <td id=\"T_882de_row5_col3\" class=\"data row5 col3\" >0.990427</td>\n",
       "      <td id=\"T_882de_row5_col4\" class=\"data row5 col4\" >1.000000</td>\n",
       "      <td id=\"T_882de_row5_col5\" class=\"data row5 col5\" >1.000000</td>\n",
       "      <td id=\"T_882de_row5_col6\" class=\"data row5 col6\" >-0.162736</td>\n",
       "    </tr>\n",
       "    <tr>\n",
       "      <th id=\"T_882de_level0_row6\" class=\"row_heading level0 row6\" >Volume</th>\n",
       "      <td id=\"T_882de_row6_col0\" class=\"data row6 col0\" >-0.285109</td>\n",
       "      <td id=\"T_882de_row6_col1\" class=\"data row6 col1\" >-0.194920</td>\n",
       "      <td id=\"T_882de_row6_col2\" class=\"data row6 col2\" >-0.126524</td>\n",
       "      <td id=\"T_882de_row6_col3\" class=\"data row6 col3\" >-0.215804</td>\n",
       "      <td id=\"T_882de_row6_col4\" class=\"data row6 col4\" >-0.162736</td>\n",
       "      <td id=\"T_882de_row6_col5\" class=\"data row6 col5\" >-0.162736</td>\n",
       "      <td id=\"T_882de_row6_col6\" class=\"data row6 col6\" >1.000000</td>\n",
       "    </tr>\n",
       "  </tbody>\n",
       "</table>\n"
      ],
      "text/plain": [
       "<pandas.io.formats.style.Styler at 0x7f9ce4797fa0>"
      ]
     },
     "execution_count": 5,
     "metadata": {},
     "output_type": "execute_result"
    }
   ],
   "source": [
    "corr = df.corr()\n",
    "corr.style.background_gradient(cmap='coolwarm')\n",
    "#If we take a look at the correlation between the features, we'll see that that the relationship between\n",
    "#'High' and 'Close' stand out. But first we'll try to see what model we can create using 'Date' and 'Close'"
   ]
  },
  {
   "cell_type": "code",
   "execution_count": 6,
   "id": "38699c7a",
   "metadata": {},
   "outputs": [
    {
     "data": {
      "text/html": [
       "<div>\n",
       "<style scoped>\n",
       "    .dataframe tbody tr th:only-of-type {\n",
       "        vertical-align: middle;\n",
       "    }\n",
       "\n",
       "    .dataframe tbody tr th {\n",
       "        vertical-align: top;\n",
       "    }\n",
       "\n",
       "    .dataframe thead th {\n",
       "        text-align: right;\n",
       "    }\n",
       "</style>\n",
       "<table border=\"1\" class=\"dataframe\">\n",
       "  <thead>\n",
       "    <tr style=\"text-align: right;\">\n",
       "      <th></th>\n",
       "      <th>0</th>\n",
       "      <th>1</th>\n",
       "      <th>2</th>\n",
       "      <th>3</th>\n",
       "      <th>4</th>\n",
       "      <th>5</th>\n",
       "      <th>6</th>\n",
       "    </tr>\n",
       "  </thead>\n",
       "  <tbody>\n",
       "    <tr>\n",
       "      <th>0</th>\n",
       "      <td>737962.0</td>\n",
       "      <td>624.479980</td>\n",
       "      <td>631.390015</td>\n",
       "      <td>608.880005</td>\n",
       "      <td>620.830017</td>\n",
       "      <td>620.830017</td>\n",
       "      <td>24812700.0</td>\n",
       "    </tr>\n",
       "    <tr>\n",
       "      <th>1</th>\n",
       "      <td>737963.0</td>\n",
       "      <td>618.250000</td>\n",
       "      <td>628.570007</td>\n",
       "      <td>615.500000</td>\n",
       "      <td>623.710022</td>\n",
       "      <td>623.710022</td>\n",
       "      <td>19158900.0</td>\n",
       "    </tr>\n",
       "    <tr>\n",
       "      <th>2</th>\n",
       "      <td>737964.0</td>\n",
       "      <td>632.000000</td>\n",
       "      <td>657.200012</td>\n",
       "      <td>630.039978</td>\n",
       "      <td>656.570007</td>\n",
       "      <td>656.570007</td>\n",
       "      <td>31099200.0</td>\n",
       "    </tr>\n",
       "    <tr>\n",
       "      <th>3</th>\n",
       "      <td>737965.0</td>\n",
       "      <td>674.989990</td>\n",
       "      <td>697.619995</td>\n",
       "      <td>667.609985</td>\n",
       "      <td>679.820007</td>\n",
       "      <td>679.820007</td>\n",
       "      <td>45982400.0</td>\n",
       "    </tr>\n",
       "    <tr>\n",
       "      <th>4</th>\n",
       "      <td>737966.0</td>\n",
       "      <td>689.580017</td>\n",
       "      <td>693.809998</td>\n",
       "      <td>668.700012</td>\n",
       "      <td>671.869995</td>\n",
       "      <td>671.869995</td>\n",
       "      <td>32496700.0</td>\n",
       "    </tr>\n",
       "  </tbody>\n",
       "</table>\n",
       "</div>"
      ],
      "text/plain": [
       "          0           1           2           3           4           5  \\\n",
       "0  737962.0  624.479980  631.390015  608.880005  620.830017  620.830017   \n",
       "1  737963.0  618.250000  628.570007  615.500000  623.710022  623.710022   \n",
       "2  737964.0  632.000000  657.200012  630.039978  656.570007  656.570007   \n",
       "3  737965.0  674.989990  697.619995  667.609985  679.820007  679.820007   \n",
       "4  737966.0  689.580017  693.809998  668.700012  671.869995  671.869995   \n",
       "\n",
       "            6  \n",
       "0  24812700.0  \n",
       "1  19158900.0  \n",
       "2  31099200.0  \n",
       "3  45982400.0  \n",
       "4  32496700.0  "
      ]
     },
     "execution_count": 6,
     "metadata": {},
     "output_type": "execute_result"
    }
   ],
   "source": [
    "#This converts the set into an array\n",
    "x = df.values\n",
    "df = pd.DataFrame(x)\n",
    "df.head()"
   ]
  },
  {
   "cell_type": "code",
   "execution_count": 7,
   "id": "a28052ce",
   "metadata": {},
   "outputs": [],
   "source": [
    "X = pd.DataFrame(df[0]) #Date\n",
    "y = pd.DataFrame(df[4]) #Close"
   ]
  },
  {
   "cell_type": "code",
   "execution_count": 8,
   "id": "cad07772",
   "metadata": {},
   "outputs": [],
   "source": [
    "#This splits the data into a training set and a testing set. The most common division is 80/20 (training/testing)\n",
    "X_train, X_test, y_train, y_test = train_test_split(X, y, test_size=.2)"
   ]
  },
  {
   "cell_type": "code",
   "execution_count": 9,
   "id": "f64da631",
   "metadata": {},
   "outputs": [],
   "source": [
    "linreg = LinearRegression()\n",
    "linreg.fit(X_train, y_train)\n",
    "y_pred = linreg.predict(X_train)"
   ]
  },
  {
   "cell_type": "code",
   "execution_count": 10,
   "id": "ee49f0af",
   "metadata": {},
   "outputs": [
    {
     "data": {
      "image/png": "[encoded data removed]",
      "text/plain": [
       "<Figure size 432x288 with 1 Axes>"
      ]
     },
     "metadata": {
      "needs_background": "light"
     },
     "output_type": "display_data"
    },
    {
     "name": "stdout",
     "output_type": "stream",
     "text": [
      "MSE = 544.8074697596254\n"
     ]
    }
   ],
   "source": [
    "plt.scatter(X_train, y_train)\n",
    "plt.plot(X_train, y_pred, color='red')\n",
    "plt.show()\n",
    "print(\"MSE = \"+str(metrics.mean_squared_error(y_train,y_pred)))"
   ]
  },
  {
   "cell_type": "code",
   "execution_count": 11,
   "id": "b8f52099",
   "metadata": {},
   "outputs": [
    {
     "data": {
      "text/plain": [
       "array([[948.3191332]])"
      ]
     },
     "execution_count": 11,
     "metadata": {},
     "output_type": "execute_result"
    }
   ],
   "source": [
    "#This doesn't give us a very accurate model, as we get a fairly high MSE (Mean Squared Error)\n",
    "#There are also some very visible outliers.\n",
    "#If we want to predict the stock on a given day with this model, we could do it like this (Day 738180, 100 days in the future): \n",
    "\n",
    "linreg.predict(np.array(738180).reshape(1,-1))\n"
   ]
  },
  {
   "cell_type": "code",
   "execution_count": 20,
   "id": "6d22410d",
   "metadata": {},
   "outputs": [],
   "source": [
    "#To see what a more accurate model would look like, we can use the data that seemed to correlate more"
   ]
  },
  {
   "cell_type": "code",
   "execution_count": 21,
   "id": "abf36862",
   "metadata": {},
   "outputs": [],
   "source": [
    "X = pd.DataFrame(df[3])\n",
    "y = pd.DataFrame(df[4]) "
   ]
  },
  {
   "cell_type": "code",
   "execution_count": 22,
   "id": "633b915c",
   "metadata": {},
   "outputs": [],
   "source": [
    "X_train, X_test, y_train, y_test = train_test_split(X, y, test_size=.2)"
   ]
  },
  {
   "cell_type": "code",
   "execution_count": 23,
   "id": "01ede4bb",
   "metadata": {},
   "outputs": [],
   "source": [
    "linreg.fit(X_train, y_train)\n",
    "y_pred = linreg.predict(X_train)"
   ]
  },
  {
   "cell_type": "code",
   "execution_count": 24,
   "id": "dc7ed794",
   "metadata": {},
   "outputs": [
    {
     "data": {
      "image/png": "[encoded data removed]",
      "text/plain": [
       "<Figure size 432x288 with 1 Axes>"
      ]
     },
     "metadata": {
      "needs_background": "light"
     },
     "output_type": "display_data"
    },
    {
     "name": "stdout",
     "output_type": "stream",
     "text": [
      "MSE = 60.79058349395041\n"
     ]
    }
   ],
   "source": [
    "plt.scatter(X_train, y_train)\n",
    "plt.plot(X_train, y_pred, color='red')\n",
    "plt.show()\n",
    "print(\"MSE = \"+str(metrics.mean_squared_error(y_train,y_pred)))"
   ]
  },
  {
   "cell_type": "code",
   "execution_count": 25,
   "id": "1b09ef78",
   "metadata": {},
   "outputs": [
    {
     "data": {
      "image/png": "[encoded data removed]",
      "text/plain": [
       "<Figure size 432x288 with 1 Axes>"
      ]
     },
     "metadata": {
      "needs_background": "light"
     },
     "output_type": "display_data"
    },
    {
     "name": "stdout",
     "output_type": "stream",
     "text": [
      "MSE = 57.38539076032034\n"
     ]
    }
   ],
   "source": [
    "y_pred = linreg.predict(X_test)\n",
    "plt.scatter(X_test, y_test)\n",
    "plt.plot(X_test, y_pred, color='red')\n",
    "plt.show()\n",
    "print(\"MSE = \"+str(metrics.mean_squared_error(y_test, y_pred)))"
   ]
  },
  {
   "cell_type": "code",
   "execution_count": 27,
   "id": "fcdfc64f",
   "metadata": {},
   "outputs": [
    {
     "data": {
      "text/plain": [
       "array([[339.79839097]])"
      ]
     },
     "execution_count": 27,
     "metadata": {},
     "output_type": "execute_result"
    }
   ],
   "source": [
    "#This model gives us a much lower MSE, but as it is now, it can't help us predict the stock on a given date, only\n",
    "#what the close price would be based on a given daily high point.\n",
    "#High point of 322:\n",
    "linreg.predict(np.array(322).reshape(1,-1))\n"
   ]
  }
 ],
 "metadata": {
  "kernelspec": {
   "display_name": "Python 3 (ipykernel)",
   "language": "python",
   "name": "python3"
  },
  "language_info": {
   "codemirror_mode": {
    "name": "ipython",
    "version": 3
   },
   "file_extension": ".py",
   "mimetype": "text/x-python",
   "name": "python",
   "nbconvert_exporter": "python",
   "pygments_lexer": "ipython3",
   "version": "3.8.11"
  }
 },
 "nbformat": 4,
 "nbformat_minor": 5
}
